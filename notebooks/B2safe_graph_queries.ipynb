{
 "cells": [
  {
   "cell_type": "markdown",
   "metadata": {},
   "source": [
    "## Graphdb connection"
   ]
  },
  {
   "cell_type": "code",
   "execution_count": 2,
   "metadata": {
    "collapsed": false
   },
   "outputs": [
    {
     "name": "stdout",
     "output_type": "stream",
     "text": [
      "Connected\n"
     ]
    }
   ],
   "source": [
    "from libs.graph import graph"
   ]
  },
  {
   "cell_type": "markdown",
   "metadata": {},
   "source": [
    "**A simple test for neomodel library**"
   ]
  },
  {
   "cell_type": "code",
   "execution_count": 3,
   "metadata": {
    "collapsed": false
   },
   "outputs": [
    {
     "data": {
      "text/plain": [
       "[<libs.graph.ogmmodels.Zone at 0x7fe59db837b8>]"
      ]
     },
     "execution_count": 3,
     "metadata": {},
     "output_type": "execute_result"
    }
   ],
   "source": [
    "graph.Zone.get_or_create({'name':'test'})"
   ]
  },
  {
   "cell_type": "markdown",
   "metadata": {},
   "source": [
    "Finding data objects in the graph which have a replica connection"
   ]
  },
  {
   "cell_type": "code",
   "execution_count": 4,
   "metadata": {
    "collapsed": false
   },
   "outputs": [],
   "source": [
    "dobj_with_replicas = graph.DataObject.nodes.has(replica=True)"
   ]
  },
  {
   "cell_type": "code",
   "execution_count": 9,
   "metadata": {
    "collapsed": false
   },
   "outputs": [
    {
     "name": "stdout",
     "output_type": "stream",
     "text": [
      "Data Object: abc_amWL7PWCAgFBDE4owlRCqCxAZtvfNj9m.txt.replica with location:\n",
      " irods://130.186.13.14:1247/cinecaDMPZone/home/pdonorio/irods2graph/abc_amWL7PWCAgFBDE4owlRCqCxAZtvfNj9m.txt.replica \n",
      "\n",
      "Data Object: abc_BewVCBrdUl2ziqwqmKyIKvxR0N9jAv1B.txt.replica with location:\n",
      " irods://130.186.13.14:1247/cinecaDMPZone/home/pdonorio/irods2graph/abc_BewVCBrdUl2ziqwqmKyIKvxR0N9jAv1B.txt.replica \n",
      "\n",
      "Data Object: abc_hMLTBbatVxFg3ozn2HTSwFYuY13UuIJU.txt.replica with location:\n",
      " irods://130.186.13.14:1247/cinecaDMPZone/home/pdonorio/irods2graph/abc_hMLTBbatVxFg3ozn2HTSwFYuY13UuIJU.txt.replica \n",
      "\n"
     ]
    }
   ],
   "source": [
    "for replicas in dobj_with_replicas:\n",
    "    print(\"Data Object:\", replicas.filename, \"with location:\\n\", replicas.location, \"\\n\")\n",
    "    #print(replicas.replica.relationship())"
   ]
  },
  {
   "cell_type": "markdown",
   "metadata": {},
   "source": [
    "---"
   ]
  },
  {
   "cell_type": "markdown",
   "metadata": {},
   "source": [
    "# Danger ;)"
   ]
  },
  {
   "cell_type": "code",
   "execution_count": 4,
   "metadata": {
    "collapsed": false
   },
   "outputs": [
    {
     "name": "stdout",
     "output_type": "stream",
     "text": [
      "Cleaning the whole graph\n"
     ]
    },
    {
     "data": {
      "text/plain": []
     },
     "execution_count": 4,
     "metadata": {},
     "output_type": "execute_result"
    }
   ],
   "source": [
    "#graph.clean_whole_database()"
   ]
  }
 ],
 "metadata": {
  "kernelspec": {
   "display_name": "Python 3",
   "language": "python",
   "name": "python3"
  },
  "language_info": {
   "codemirror_mode": {
    "name": "ipython",
    "version": 3
   },
   "file_extension": ".py",
   "mimetype": "text/x-python",
   "name": "python",
   "nbconvert_exporter": "python",
   "pygments_lexer": "ipython3",
   "version": "3.4.3"
  }
 },
 "nbformat": 4,
 "nbformat_minor": 0
}
