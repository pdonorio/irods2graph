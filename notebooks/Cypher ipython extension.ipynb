{
 "cells": [
  {
   "cell_type": "markdown",
   "metadata": {},
   "source": [
    "# Connect cypher queries\n",
    "Load the extension"
   ]
  },
  {
   "cell_type": "code",
   "execution_count": 1,
   "metadata": {
    "collapsed": false
   },
   "outputs": [],
   "source": [
    "%%capture\n",
    "%reload_ext cypher"
   ]
  },
  {
   "cell_type": "markdown",
   "metadata": {},
   "source": [
    "Define URL for connection"
   ]
  },
  {
   "cell_type": "code",
   "execution_count": 2,
   "metadata": {
    "collapsed": false
   },
   "outputs": [],
   "source": [
    "from libs.graph import connect_icypher"
   ]
  },
  {
   "cell_type": "markdown",
   "metadata": {},
   "source": [
    "## Queries to the GraphDB"
   ]
  },
  {
   "cell_type": "code",
   "execution_count": 3,
   "metadata": {
    "collapsed": false
   },
   "outputs": [
    {
     "name": "stdout",
     "output_type": "stream",
     "text": [
      "1 rows affected.\n"
     ]
    },
    {
     "data": {
      "text/html": [
       "<table>\n",
       "    <tr>\n",
       "        <th>n</th>\n",
       "    </tr>\n",
       "    <tr>\n",
       "        <td>{&#x27;name&#x27;: &#x27;tempZone&#x27;}</td>\n",
       "    </tr>\n",
       "</table>"
      ],
      "text/plain": [
       "[[{'name': 'tempZone'}]]"
      ]
     },
     "execution_count": 3,
     "metadata": {},
     "output_type": "execute_result"
    }
   ],
   "source": [
    "%cypher match (n) return n limit 1"
   ]
  },
  {
   "cell_type": "code",
   "execution_count": 4,
   "metadata": {
    "collapsed": false
   },
   "outputs": [
    {
     "name": "stdout",
     "output_type": "stream",
     "text": [
      "2 rows affected.\n"
     ]
    },
    {
     "data": {
      "text/html": [
       "<table>\n",
       "    <tr>\n",
       "        <th>n</th>\n",
       "    </tr>\n",
       "    <tr>\n",
       "        <td>{&#x27;name&#x27;: &#x27;tempZone&#x27;}</td>\n",
       "    </tr>\n",
       "    <tr>\n",
       "        <td>{&#x27;location&#x27;: &#x27;irods://rodserver:1247/tempZone/home/rods/irods2graph/abc_27LGKm4fu9EfSFCPlOwHFxAs6fKMhoKD.txt&#x27;, &#x27;filename&#x27;: &#x27;abc_27LGKm4fu9EfSFCPlOwHFxAs6fKMhoKD.txt&#x27;, &#x27;path&#x27;: &#x27;/tempZone/home/rods/irods2graph/abc_27LGKm4fu9EfSFCPlOwHFxAs6fKMhoKD.txt&#x27;}</td>\n",
       "    </tr>\n",
       "</table>"
      ],
      "text/plain": [
       "[[{'name': 'tempZone'}],\n",
       " [{'filename': 'abc_27LGKm4fu9EfSFCPlOwHFxAs6fKMhoKD.txt',\n",
       "   'location': 'irods://rodserver:1247/tempZone/home/rods/irods2graph/abc_27LGKm4fu9EfSFCPlOwHFxAs6fKMhoKD.txt',\n",
       "   'path': '/tempZone/home/rods/irods2graph/abc_27LGKm4fu9EfSFCPlOwHFxAs6fKMhoKD.txt'}]]"
      ]
     },
     "execution_count": 4,
     "metadata": {},
     "output_type": "execute_result"
    }
   ],
   "source": [
    "%%cypher\n",
    "match (n) return n limit 2"
   ]
  },
  {
   "cell_type": "code",
   "execution_count": 5,
   "metadata": {
    "collapsed": false
   },
   "outputs": [
    {
     "name": "stdout",
     "output_type": "stream",
     "text": [
      "684 rows affected.\n"
     ]
    }
   ],
   "source": [
    "results = %cypher MATCH (a)-[]-(b) RETURN a, b"
   ]
  },
  {
   "cell_type": "markdown",
   "metadata": {},
   "source": [
    "## To be continued..."
   ]
  }
 ],
 "metadata": {
  "kernelspec": {
   "display_name": "Python 3",
   "language": "python",
   "name": "python3"
  },
  "language_info": {
   "codemirror_mode": {
    "name": "ipython",
    "version": 3
   },
   "file_extension": ".py",
   "mimetype": "text/x-python",
   "name": "python",
   "nbconvert_exporter": "python",
   "pygments_lexer": "ipython3",
   "version": "3.4.3"
  }
 },
 "nbformat": 4,
 "nbformat_minor": 0
}
