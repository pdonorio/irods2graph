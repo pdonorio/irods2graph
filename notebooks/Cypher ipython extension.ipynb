{
 "cells": [
  {
   "cell_type": "code",
   "execution_count": 1,
   "metadata": {
    "collapsed": false
   },
   "outputs": [
    {
     "data": {
      "text/plain": [
       "'/opt/miniconda/envs/py3k'"
      ]
     },
     "execution_count": 1,
     "metadata": {},
     "output_type": "execute_result"
    }
   ],
   "source": [
    "%env CONDA_ENV_PATH"
   ]
  },
  {
   "cell_type": "code",
   "execution_count": 2,
   "metadata": {
    "collapsed": false
   },
   "outputs": [
    {
     "name": "stdout",
     "output_type": "stream",
     "text": [
      "Collecting ipython-cypher\n",
      "  Downloading ipython-cypher-0.2.2.tar.gz\n",
      "Collecting neo4jrestclient>=2.1.0 (from ipython-cypher)\n",
      "  Downloading neo4jrestclient-2.1.0.tar.gz (77kB)\n",
      "\u001b[K    100% |████████████████████████████████| 77kB 1.0MB/s \n",
      "\u001b[?25hCollecting prettytable (from ipython-cypher)\n",
      "  Downloading prettytable-0.7.2.tar.bz2\n",
      "Requirement already satisfied (use --upgrade to upgrade): ipython>=1.0 in /opt/miniconda/envs/py3k/lib/python3.4/site-packages (from ipython-cypher)\n",
      "Requirement already satisfied (use --upgrade to upgrade): requests>=2.1.0 in /opt/miniconda/envs/py3k/lib/python3.4/site-packages (from neo4jrestclient>=2.1.0->ipython-cypher)\n",
      "Building wheels for collected packages: ipython-cypher, neo4jrestclient, prettytable\n",
      "  Running setup.py bdist_wheel for ipython-cypher\n",
      "  Stored in directory: /root/.cache/pip/wheels/33/ed/a3/2dfb583d6a7dccec959c8d5f6b79783fab5a2af6c25f62133d\n",
      "  Running setup.py bdist_wheel for neo4jrestclient\n",
      "  Stored in directory: /root/.cache/pip/wheels/a4/56/31/d096cd1eb903fa4921cc39d8e9cf0ca2e1f31fc595c0267d65\n",
      "  Running setup.py bdist_wheel for prettytable\n",
      "  Stored in directory: /root/.cache/pip/wheels/41/46/ec/ec86e65e50e9f4be52547a3bedd46077e7414c53d2ed0418fd\n",
      "Successfully built ipython-cypher neo4jrestclient prettytable\n",
      "Installing collected packages: neo4jrestclient, prettytable, ipython-cypher\n",
      "Successfully installed ipython-cypher-0.2.2 neo4jrestclient-2.1.0 prettytable-0.7.2\n"
     ]
    }
   ],
   "source": [
    "! $CONDA_ENV_PATH/bin/pip install ipython-cypher"
   ]
  },
  {
   "cell_type": "code",
   "execution_count": 3,
   "metadata": {
    "collapsed": false
   },
   "outputs": [
    {
     "name": "stderr",
     "output_type": "stream",
     "text": [
      "/opt/miniconda/envs/py3k/lib/python3.4/site-packages/IPython/config.py:13: ShimWarning: The `IPython.config` package has been deprecated. You should import from traitlets.config instead.\n",
      "  \"You should import from traitlets.config instead.\", ShimWarning)\n",
      "/opt/miniconda/envs/py3k/lib/python3.4/site-packages/IPython/utils/traitlets.py:5: UserWarning: IPython.utils.traitlets has moved to a top-level traitlets package.\n",
      "  warn(\"IPython.utils.traitlets has moved to a top-level traitlets package.\")\n"
     ]
    }
   ],
   "source": [
    "%load_ext cypher"
   ]
  },
  {
   "cell_type": "code",
   "execution_count": null,
   "metadata": {
    "collapsed": true
   },
   "outputs": [],
   "source": [
    "# Do some\n",
    "# %cypher"
   ]
  }
 ],
 "metadata": {
  "kernelspec": {
   "display_name": "Python 3",
   "language": "python",
   "name": "python3"
  },
  "language_info": {
   "codemirror_mode": {
    "name": "ipython",
    "version": 3
   },
   "file_extension": ".py",
   "mimetype": "text/x-python",
   "name": "python",
   "nbconvert_exporter": "python",
   "pygments_lexer": "ipython3",
   "version": "3.4.3"
  }
 },
 "nbformat": 4,
 "nbformat_minor": 0
}
