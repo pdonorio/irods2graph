{
 "cells": [
  {
   "cell_type": "markdown",
   "metadata": {},
   "source": [
    "# Connect cypher queries\n",
    "Load the extension"
   ]
  },
  {
   "cell_type": "code",
   "execution_count": 1,
   "metadata": {
    "collapsed": false
   },
   "outputs": [],
   "source": [
    "%%capture\n",
    "%reload_ext cypher"
   ]
  },
  {
   "cell_type": "markdown",
   "metadata": {},
   "source": [
    "Define URL for connection"
   ]
  },
  {
   "cell_type": "code",
   "execution_count": 2,
   "metadata": {
    "collapsed": false
   },
   "outputs": [
    {
     "name": "stderr",
     "output_type": "stream",
     "text": [
      "INFO:libs.graph.graph:Graph is connected\n"
     ]
    }
   ],
   "source": [
    "from libs.graph import connect_icypher"
   ]
  },
  {
   "cell_type": "markdown",
   "metadata": {},
   "source": [
    "## Queries to the GraphDB"
   ]
  },
  {
   "cell_type": "code",
   "execution_count": 3,
   "metadata": {
    "collapsed": false
   },
   "outputs": [
    {
     "name": "stdout",
     "output_type": "stream",
     "text": [
      "1 rows affected.\n"
     ]
    },
    {
     "data": {
      "text/html": [
       "<table>\n",
       "    <tr>\n",
       "        <th>n</th>\n",
       "    </tr>\n",
       "    <tr>\n",
       "        <td>{&#x27;name&#x27;: &#x27;cinecaDMPZone&#x27;}</td>\n",
       "    </tr>\n",
       "</table>"
      ],
      "text/plain": [
       "[[{'name': 'cinecaDMPZone'}]]"
      ]
     },
     "execution_count": 3,
     "metadata": {},
     "output_type": "execute_result"
    }
   ],
   "source": [
    "%cypher match (n) return n limit 1"
   ]
  },
  {
   "cell_type": "code",
   "execution_count": 4,
   "metadata": {
    "collapsed": false
   },
   "outputs": [
    {
     "name": "stdout",
     "output_type": "stream",
     "text": [
      "2 rows affected.\n"
     ]
    },
    {
     "data": {
      "text/html": [
       "<table>\n",
       "    <tr>\n",
       "        <th>n</th>\n",
       "    </tr>\n",
       "    <tr>\n",
       "        <td>{&#x27;name&#x27;: &#x27;cinecaDMPZone&#x27;}</td>\n",
       "    </tr>\n",
       "    <tr>\n",
       "        <td>{&#x27;path&#x27;: &#x27;/cinecaDMPZone/home/pdonorio/data/abc_Asek8HXxB3zalvspNx0Ng1JbJsRSciIx.txt&#x27;, &#x27;location&#x27;: &#x27;irods://130.186.13.14:1247/cinecaDMPZone/home/pdonorio/data/abc_Asek8HXxB3zalvspNx0Ng1JbJsRSciIx.txt&#x27;, &#x27;filename&#x27;: &#x27;abc_Asek8HXxB3zalvspNx0Ng1JbJsRSciIx.txt&#x27;}</td>\n",
       "    </tr>\n",
       "</table>"
      ],
      "text/plain": [
       "[[{'name': 'cinecaDMPZone'}],\n",
       " [{'filename': 'abc_Asek8HXxB3zalvspNx0Ng1JbJsRSciIx.txt',\n",
       "   'location': 'irods://130.186.13.14:1247/cinecaDMPZone/home/pdonorio/data/abc_Asek8HXxB3zalvspNx0Ng1JbJsRSciIx.txt',\n",
       "   'path': '/cinecaDMPZone/home/pdonorio/data/abc_Asek8HXxB3zalvspNx0Ng1JbJsRSciIx.txt'}]]"
      ]
     },
     "execution_count": 4,
     "metadata": {},
     "output_type": "execute_result"
    }
   ],
   "source": [
    "%%cypher\n",
    "match (n) return n limit 2"
   ]
  },
  {
   "cell_type": "code",
   "execution_count": 21,
   "metadata": {
    "collapsed": false
   },
   "outputs": [
    {
     "name": "stdout",
     "output_type": "stream",
     "text": [
      "3 rows affected.\n"
     ]
    }
   ],
   "source": [
    "results = %cypher MATCH (a)-[]-(b) RETURN a, b limit 3"
   ]
  },
  {
   "cell_type": "code",
   "execution_count": 22,
   "metadata": {
    "collapsed": false
   },
   "outputs": [
    {
     "data": {
      "text/html": [
       "<div>\n",
       "<table border=\"1\" class=\"dataframe\">\n",
       "  <thead>\n",
       "    <tr style=\"text-align: right;\">\n",
       "      <th></th>\n",
       "      <th>a</th>\n",
       "      <th>b</th>\n",
       "    </tr>\n",
       "  </thead>\n",
       "  <tbody>\n",
       "    <tr>\n",
       "      <th>0</th>\n",
       "      <td>{'path': '/cinecaDMPZone/home/pdonorio/mydata/...</td>\n",
       "      <td>{'name': 'cinecaDMPZone'}</td>\n",
       "    </tr>\n",
       "    <tr>\n",
       "      <th>1</th>\n",
       "      <td>{'path': '/cinecaDMPZone/home/pdonorio/mydata/...</td>\n",
       "      <td>{'name': 'cinecaDMPZone'}</td>\n",
       "    </tr>\n",
       "    <tr>\n",
       "      <th>2</th>\n",
       "      <td>{'path': '/cinecaDMPZone/home/pdonorio/mydata/...</td>\n",
       "      <td>{'name': 'cinecaDMPZone'}</td>\n",
       "    </tr>\n",
       "  </tbody>\n",
       "</table>\n",
       "</div>"
      ],
      "text/plain": [
       "                                                   a  \\\n",
       "0  {'path': '/cinecaDMPZone/home/pdonorio/mydata/...   \n",
       "1  {'path': '/cinecaDMPZone/home/pdonorio/mydata/...   \n",
       "2  {'path': '/cinecaDMPZone/home/pdonorio/mydata/...   \n",
       "\n",
       "                           b  \n",
       "0  {'name': 'cinecaDMPZone'}  \n",
       "1  {'name': 'cinecaDMPZone'}  \n",
       "2  {'name': 'cinecaDMPZone'}  "
      ]
     },
     "execution_count": 22,
     "metadata": {},
     "output_type": "execute_result"
    }
   ],
   "source": [
    "# Pandas\n",
    "results.get_dataframe()"
   ]
  },
  {
   "cell_type": "code",
   "execution_count": 23,
   "metadata": {
    "collapsed": false
   },
   "outputs": [
    {
     "data": {
      "text/plain": [
       "<networkx.classes.multidigraph.MultiDiGraph at 0x7f22d2e649b0>"
      ]
     },
     "execution_count": 23,
     "metadata": {},
     "output_type": "execute_result"
    }
   ],
   "source": [
    "# Networkx\n",
    "results.get_graph()"
   ]
  },
  {
   "cell_type": "code",
   "execution_count": 24,
   "metadata": {
    "collapsed": false
   },
   "outputs": [],
   "source": [
    "%matplotlib inline\n",
    "#results.plot()"
   ]
  },
  {
   "cell_type": "markdown",
   "metadata": {},
   "source": [
    "# Problem with cypher\n",
    "A python3 problem"
   ]
  },
  {
   "cell_type": "code",
   "execution_count": 25,
   "metadata": {
    "collapsed": false
   },
   "outputs": [
    {
     "data": {
      "text/plain": [
       "(<networkx.classes.multidigraph.MultiDiGraph at 0x7f22d478e2e8>,\n",
       " <matplotlib.axes._subplots.AxesSubplot at 0x7f22d2e59438>,\n",
       " <matplotlib.collections.PathCollection at 0x7f22d2dd02b0>)"
      ]
     },
     "execution_count": 25,
     "metadata": {},
     "output_type": "execute_result"
    },
    {
     "data": {
      "image/png": "[encoded data removed]",
      "text/plain": [
       "<matplotlib.figure.Figure at 0x7f22d478eb38>"
      ]
     },
     "metadata": {},
     "output_type": "display_data"
    }
   ],
   "source": [
    "results.draw()"
   ]
  },
  {
   "cell_type": "code",
   "execution_count": null,
   "metadata": {
    "collapsed": true
   },
   "outputs": [],
   "source": []
  }
 ],
 "metadata": {
  "kernelspec": {
   "display_name": "Python 3",
   "language": "python",
   "name": "python3"
  },
  "language_info": {
   "codemirror_mode": {
    "name": "ipython",
    "version": 3
   },
   "file_extension": ".py",
   "mimetype": "text/x-python",
   "name": "python",
   "nbconvert_exporter": "python",
   "pygments_lexer": "ipython3",
   "version": "3.4.3"
  }
 },
 "nbformat": 4,
 "nbformat_minor": 0
}
