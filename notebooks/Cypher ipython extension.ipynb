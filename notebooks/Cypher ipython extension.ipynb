{
 "cells": [
  {
   "cell_type": "markdown",
   "metadata": {},
   "source": [
    "# Connect cypher queries\n",
    "Load the extension"
   ]
  },
  {
   "cell_type": "code",
   "execution_count": 2,
   "metadata": {
    "collapsed": false
   },
   "outputs": [],
   "source": [
    "%%capture\n",
    "%reload_ext cypher"
   ]
  },
  {
   "cell_type": "markdown",
   "metadata": {},
   "source": [
    "Define URL for connection"
   ]
  },
  {
   "cell_type": "code",
   "execution_count": 3,
   "metadata": {
    "collapsed": false
   },
   "outputs": [
    {
     "name": "stdout",
     "output_type": "stream",
     "text": [
      "Connected\n"
     ]
    }
   ],
   "source": [
    "from libs.graph import connect_icypher"
   ]
  },
  {
   "cell_type": "markdown",
   "metadata": {},
   "source": [
    "## Queries to the GraphDB"
   ]
  },
  {
   "cell_type": "code",
   "execution_count": 4,
   "metadata": {
    "collapsed": false
   },
   "outputs": [
    {
     "name": "stdout",
     "output_type": "stream",
     "text": [
      "1 rows affected.\n"
     ]
    },
    {
     "data": {
      "text/html": [
       "<table>\n",
       "    <tr>\n",
       "        <th>n</th>\n",
       "    </tr>\n",
       "    <tr>\n",
       "        <td>{&#x27;name&#x27;: &#x27;cinecaDMPZone&#x27;}</td>\n",
       "    </tr>\n",
       "</table>"
      ],
      "text/plain": [
       "[[{'name': 'cinecaDMPZone'}]]"
      ]
     },
     "execution_count": 4,
     "metadata": {},
     "output_type": "execute_result"
    }
   ],
   "source": [
    "%cypher match (n) return n limit 1"
   ]
  },
  {
   "cell_type": "code",
   "execution_count": 5,
   "metadata": {
    "collapsed": false
   },
   "outputs": [
    {
     "name": "stdout",
     "output_type": "stream",
     "text": [
      "2 rows affected.\n"
     ]
    },
    {
     "data": {
      "text/html": [
       "<table>\n",
       "    <tr>\n",
       "        <th>n</th>\n",
       "    </tr>\n",
       "    <tr>\n",
       "        <td>{&#x27;name&#x27;: &#x27;cinecaDMPZone&#x27;}</td>\n",
       "    </tr>\n",
       "    <tr>\n",
       "        <td>{&#x27;path&#x27;: &#x27;/cinecaDMPZone/home/pdonorio/irods2graph/abc_5b5YsijArUem2Py7DqCi1IOMHUlXBZw2.txt&#x27;, &#x27;location&#x27;: &#x27;irods://130.186.13.14:1247/cinecaDMPZone/home/pdonorio/irods2graph/abc_5b5YsijArUem2Py7DqCi1IOMHUlXBZw2.txt&#x27;, &#x27;filename&#x27;: &#x27;abc_5b5YsijArUem2Py7DqCi1IOMHUlXBZw2.txt&#x27;}</td>\n",
       "    </tr>\n",
       "</table>"
      ],
      "text/plain": [
       "[[{'name': 'cinecaDMPZone'}],\n",
       " [{'filename': 'abc_5b5YsijArUem2Py7DqCi1IOMHUlXBZw2.txt',\n",
       "   'location': 'irods://130.186.13.14:1247/cinecaDMPZone/home/pdonorio/irods2graph/abc_5b5YsijArUem2Py7DqCi1IOMHUlXBZw2.txt',\n",
       "   'path': '/cinecaDMPZone/home/pdonorio/irods2graph/abc_5b5YsijArUem2Py7DqCi1IOMHUlXBZw2.txt'}]]"
      ]
     },
     "execution_count": 5,
     "metadata": {},
     "output_type": "execute_result"
    }
   ],
   "source": [
    "%%cypher\n",
    "match (n) return n limit 2"
   ]
  },
  {
   "cell_type": "code",
   "execution_count": 6,
   "metadata": {
    "collapsed": false
   },
   "outputs": [
    {
     "name": "stdout",
     "output_type": "stream",
     "text": [
      "518 rows affected.\n"
     ]
    }
   ],
   "source": [
    "results = %cypher MATCH (a)-[]-(b) RETURN a, b"
   ]
  },
  {
   "cell_type": "code",
   "execution_count": 7,
   "metadata": {
    "collapsed": false
   },
   "outputs": [
    {
     "data": {
      "text/html": [
       "<div>\n",
       "<table border=\"1\" class=\"dataframe\">\n",
       "  <thead>\n",
       "    <tr style=\"text-align: right;\">\n",
       "      <th></th>\n",
       "      <th>a</th>\n",
       "      <th>b</th>\n",
       "    </tr>\n",
       "  </thead>\n",
       "  <tbody>\n",
       "    <tr>\n",
       "      <th>0</th>\n",
       "      <td>{'path': '/cinecaDMPZone/home/pdonorio/irods2g...</td>\n",
       "      <td>{'name': 'cinecaDMPZone'}</td>\n",
       "    </tr>\n",
       "    <tr>\n",
       "      <th>1</th>\n",
       "      <td>{'path': '/cinecaDMPZone/home/pdonorio/irods2g...</td>\n",
       "      <td>{'name': 'cinecaDMPZone'}</td>\n",
       "    </tr>\n",
       "    <tr>\n",
       "      <th>2</th>\n",
       "      <td>{'path': '/cinecaDMPZone/home/pdonorio/irods2g...</td>\n",
       "      <td>{'name': 'cinecaDMPZone'}</td>\n",
       "    </tr>\n",
       "    <tr>\n",
       "      <th>3</th>\n",
       "      <td>{'path': '/cinecaDMPZone/home/pdonorio/irods2g...</td>\n",
       "      <td>{'name': 'cinecaDMPZone'}</td>\n",
       "    </tr>\n",
       "    <tr>\n",
       "      <th>4</th>\n",
       "      <td>{'path': '/cinecaDMPZone/home/pdonorio/irods2g...</td>\n",
       "      <td>{'name': 'cinecaDMPZone'}</td>\n",
       "    </tr>\n",
       "    <tr>\n",
       "      <th>5</th>\n",
       "      <td>{'path': '/cinecaDMPZone/home/pdonorio/irods2g...</td>\n",
       "      <td>{'name': 'cinecaDMPZone'}</td>\n",
       "    </tr>\n",
       "    <tr>\n",
       "      <th>6</th>\n",
       "      <td>{'path': '/cinecaDMPZone/home/pdonorio/irods2g...</td>\n",
       "      <td>{'name': 'cinecaDMPZone'}</td>\n",
       "    </tr>\n",
       "    <tr>\n",
       "      <th>7</th>\n",
       "      <td>{'path': '/cinecaDMPZone/home/pdonorio/irods2g...</td>\n",
       "      <td>{'name': 'cinecaDMPZone'}</td>\n",
       "    </tr>\n",
       "    <tr>\n",
       "      <th>8</th>\n",
       "      <td>{'path': '/cinecaDMPZone/home/pdonorio/irods2g...</td>\n",
       "      <td>{'name': 'cinecaDMPZone'}</td>\n",
       "    </tr>\n",
       "    <tr>\n",
       "      <th>9</th>\n",
       "      <td>{'path': '/cinecaDMPZone/home/pdonorio/irods2g...</td>\n",
       "      <td>{'name': 'cinecaDMPZone'}</td>\n",
       "    </tr>\n",
       "    <tr>\n",
       "      <th>10</th>\n",
       "      <td>{'name': 'cinecaRes1'}</td>\n",
       "      <td>{'name': 'cinecaDMPZone'}</td>\n",
       "    </tr>\n",
       "    <tr>\n",
       "      <th>11</th>\n",
       "      <td>{'path': '/cinecaDMPZone/home', 'name': 'home'}</td>\n",
       "      <td>{'name': 'cinecaDMPZone'}</td>\n",
       "    </tr>\n",
       "    <tr>\n",
       "      <th>12</th>\n",
       "      <td>{'path': '/cinecaDMPZone/home/pdonorio', 'name...</td>\n",
       "      <td>{'name': 'cinecaDMPZone'}</td>\n",
       "    </tr>\n",
       "    <tr>\n",
       "      <th>13</th>\n",
       "      <td>{'path': '/cinecaDMPZone/home/pdonorio/irods2g...</td>\n",
       "      <td>{'name': 'cinecaDMPZone'}</td>\n",
       "    </tr>\n",
       "    <tr>\n",
       "      <th>14</th>\n",
       "      <td>{'name': 'cinecaDMPZone'}</td>\n",
       "      <td>{'path': '/cinecaDMPZone/home/pdonorio/irods2g...</td>\n",
       "    </tr>\n",
       "    <tr>\n",
       "      <th>15</th>\n",
       "      <td>{'name': 'cinecaRes1'}</td>\n",
       "      <td>{'path': '/cinecaDMPZone/home/pdonorio/irods2g...</td>\n",
       "    </tr>\n",
       "    <tr>\n",
       "      <th>16</th>\n",
       "      <td>{'path': '/cinecaDMPZone/home/pdonorio/irods2g...</td>\n",
       "      <td>{'path': '/cinecaDMPZone/home/pdonorio/irods2g...</td>\n",
       "    </tr>\n",
       "    <tr>\n",
       "      <th>17</th>\n",
       "      <td>{'value': '01442562814', 'key': 'eudat_dpm_che...</td>\n",
       "      <td>{'path': '/cinecaDMPZone/home/pdonorio/irods2g...</td>\n",
       "    </tr>\n",
       "    <tr>\n",
       "      <th>18</th>\n",
       "      <td>{'value': '01442562814: 2015-09-18.07:53:34', ...</td>\n",
       "      <td>{'path': '/cinecaDMPZone/home/pdonorio/irods2g...</td>\n",
       "    </tr>\n",
       "    <tr>\n",
       "      <th>19</th>\n",
       "      <td>{'value': 'create_ts: 01442562814: 2015-09-18....</td>\n",
       "      <td>{'path': '/cinecaDMPZone/home/pdonorio/irods2g...</td>\n",
       "    </tr>\n",
       "    <tr>\n",
       "      <th>20</th>\n",
       "      <td>{'value': '0', 'key': 'data_map_id', 'metatype...</td>\n",
       "      <td>{'path': '/cinecaDMPZone/home/pdonorio/irods2g...</td>\n",
       "    </tr>\n",
       "    <tr>\n",
       "      <th>21</th>\n",
       "      <td>{'value': 'data_checksum : sha2:G7J5wJ+CsKbEWg...</td>\n",
       "      <td>{'path': '/cinecaDMPZone/home/pdonorio/irods2g...</td>\n",
       "    </tr>\n",
       "    <tr>\n",
       "      <th>22</th>\n",
       "      <td>{'value': '1', 'key': 'data_repl_status', 'met...</td>\n",
       "      <td>{'path': '/cinecaDMPZone/home/pdonorio/irods2g...</td>\n",
       "    </tr>\n",
       "    <tr>\n",
       "      <th>23</th>\n",
       "      <td>{'value': 'cinecaDMPZone', 'key': 'data_owner_...</td>\n",
       "      <td>{'path': '/cinecaDMPZone/home/pdonorio/irods2g...</td>\n",
       "    </tr>\n",
       "    <tr>\n",
       "      <th>24</th>\n",
       "      <td>{'value': 'pdonorio', 'key': 'data_owner_name'...</td>\n",
       "      <td>{'path': '/cinecaDMPZone/home/pdonorio/irods2g...</td>\n",
       "    </tr>\n",
       "    <tr>\n",
       "      <th>25</th>\n",
       "      <td>{'value': 'cinecaRes1', 'key': 'resc_name', 'm...</td>\n",
       "      <td>{'path': '/cinecaDMPZone/home/pdonorio/irods2g...</td>\n",
       "    </tr>\n",
       "    <tr>\n",
       "      <th>26</th>\n",
       "      <td>{'value': 'cinecaRes1', 'key': 'resc_group_nam...</td>\n",
       "      <td>{'path': '/cinecaDMPZone/home/pdonorio/irods2g...</td>\n",
       "    </tr>\n",
       "    <tr>\n",
       "      <th>27</th>\n",
       "      <td>{'value': '32', 'key': 'data_size', 'metatype'...</td>\n",
       "      <td>{'path': '/cinecaDMPZone/home/pdonorio/irods2g...</td>\n",
       "    </tr>\n",
       "    <tr>\n",
       "      <th>28</th>\n",
       "      <td>{'value': 'data_type_name: generic', 'key': 'd...</td>\n",
       "      <td>{'path': '/cinecaDMPZone/home/pdonorio/irods2g...</td>\n",
       "    </tr>\n",
       "    <tr>\n",
       "      <th>29</th>\n",
       "      <td>{'value': '0', 'key': 'data_repl_num', 'metaty...</td>\n",
       "      <td>{'path': '/cinecaDMPZone/home/pdonorio/irods2g...</td>\n",
       "    </tr>\n",
       "    <tr>\n",
       "      <th>...</th>\n",
       "      <td>...</td>\n",
       "      <td>...</td>\n",
       "    </tr>\n",
       "    <tr>\n",
       "      <th>488</th>\n",
       "      <td>{'value': 'abc_NSbuOF9luaO97s3NRISxFN6KGco8AW5...</td>\n",
       "      <td>{'path': '/cinecaDMPZone/home/pdonorio/irods2g...</td>\n",
       "    </tr>\n",
       "    <tr>\n",
       "      <th>489</th>\n",
       "      <td>{'checksum': 'sha2:47Ch/lZPWHZIIMjWKy7Zboa8+j+...</td>\n",
       "      <td>{'path': '/cinecaDMPZone/home/pdonorio/irods2g...</td>\n",
       "    </tr>\n",
       "    <tr>\n",
       "      <th>490</th>\n",
       "      <td>{'name': 'pdonorio'}</td>\n",
       "      <td>{'path': '/cinecaDMPZone/home/pdonorio/irods2g...</td>\n",
       "    </tr>\n",
       "    <tr>\n",
       "      <th>491</th>\n",
       "      <td>{'path': '/cinecaDMPZone/home/pdonorio/irods2g...</td>\n",
       "      <td>{'value': 'abc_NSbuOF9luaO97s3NRISxFN6KGco8AW5...</td>\n",
       "    </tr>\n",
       "    <tr>\n",
       "      <th>492</th>\n",
       "      <td>{'path': '/cinecaDMPZone/home/pdonorio/irods2g...</td>\n",
       "      <td>{'value': '10246', 'key': 'data_id', 'metatype...</td>\n",
       "    </tr>\n",
       "    <tr>\n",
       "      <th>493</th>\n",
       "      <td>{'path': '/cinecaDMPZone/home/pdonorio/irods2g...</td>\n",
       "      <td>{'value': '10215', 'key': 'coll_id', 'metatype...</td>\n",
       "    </tr>\n",
       "    <tr>\n",
       "      <th>494</th>\n",
       "      <td>{'path': '/cinecaDMPZone/home/pdonorio/irods2g...</td>\n",
       "      <td>{'value': '0', 'key': 'data_repl_num', 'metaty...</td>\n",
       "    </tr>\n",
       "    <tr>\n",
       "      <th>495</th>\n",
       "      <td>{'path': '/cinecaDMPZone/home/pdonorio/irods2g...</td>\n",
       "      <td>{'value': 'data_type_name: generic', 'key': 'd...</td>\n",
       "    </tr>\n",
       "    <tr>\n",
       "      <th>496</th>\n",
       "      <td>{'path': '/cinecaDMPZone/home/pdonorio/irods2g...</td>\n",
       "      <td>{'value': '32', 'key': 'data_size', 'metatype'...</td>\n",
       "    </tr>\n",
       "    <tr>\n",
       "      <th>497</th>\n",
       "      <td>{'path': '/cinecaDMPZone/home/pdonorio/irods2g...</td>\n",
       "      <td>{'value': 'cinecaRes1', 'key': 'resc_group_nam...</td>\n",
       "    </tr>\n",
       "    <tr>\n",
       "      <th>498</th>\n",
       "      <td>{'path': '/cinecaDMPZone/home/pdonorio/irods2g...</td>\n",
       "      <td>{'value': 'cinecaRes1', 'key': 'resc_name', 'm...</td>\n",
       "    </tr>\n",
       "    <tr>\n",
       "      <th>499</th>\n",
       "      <td>{'path': '/cinecaDMPZone/home/pdonorio/irods2g...</td>\n",
       "      <td>{'value': 'pdonorio', 'key': 'data_owner_name'...</td>\n",
       "    </tr>\n",
       "    <tr>\n",
       "      <th>500</th>\n",
       "      <td>{'path': '/cinecaDMPZone/home/pdonorio/irods2g...</td>\n",
       "      <td>{'value': 'cinecaDMPZone', 'key': 'data_owner_...</td>\n",
       "    </tr>\n",
       "    <tr>\n",
       "      <th>501</th>\n",
       "      <td>{'path': '/cinecaDMPZone/home/pdonorio/irods2g...</td>\n",
       "      <td>{'value': '1', 'key': 'data_repl_status', 'met...</td>\n",
       "    </tr>\n",
       "    <tr>\n",
       "      <th>502</th>\n",
       "      <td>{'path': '/cinecaDMPZone/home/pdonorio/irods2g...</td>\n",
       "      <td>{'value': 'data_checksum : sha2:47Ch/lZPWHZIIM...</td>\n",
       "    </tr>\n",
       "    <tr>\n",
       "      <th>503</th>\n",
       "      <td>{'path': '/cinecaDMPZone/home/pdonorio/irods2g...</td>\n",
       "      <td>{'value': '0', 'key': 'data_map_id', 'metatype...</td>\n",
       "    </tr>\n",
       "    <tr>\n",
       "      <th>504</th>\n",
       "      <td>{'path': '/cinecaDMPZone/home/pdonorio/irods2g...</td>\n",
       "      <td>{'value': 'create_ts: 01441348838: 2015-09-04....</td>\n",
       "    </tr>\n",
       "    <tr>\n",
       "      <th>505</th>\n",
       "      <td>{'path': '/cinecaDMPZone/home/pdonorio/irods2g...</td>\n",
       "      <td>{'value': '01441348838: 2015-09-04.06:40:38', ...</td>\n",
       "    </tr>\n",
       "    <tr>\n",
       "      <th>506</th>\n",
       "      <td>{'path': '/cinecaDMPZone/home/pdonorio/irods2g...</td>\n",
       "      <td>{'value': '01441348838', 'key': 'eudat_dpm_che...</td>\n",
       "    </tr>\n",
       "    <tr>\n",
       "      <th>507</th>\n",
       "      <td>{'path': '/cinecaDMPZone/home/pdonorio/irods2g...</td>\n",
       "      <td>{'value': 'CdQxUxwbe44va03FD6z8vp4nxfTN1Xwu3',...</td>\n",
       "    </tr>\n",
       "    <tr>\n",
       "      <th>508</th>\n",
       "      <td>{'path': '/cinecaDMPZone/home/pdonorio/irods2g...</td>\n",
       "      <td>{'value': 'dQxUxwbe44va03FD6z8vp4nxfTN1Xwu3', ...</td>\n",
       "    </tr>\n",
       "    <tr>\n",
       "      <th>509</th>\n",
       "      <td>{'path': '/cinecaDMPZone/home/pdonorio/irods2g...</td>\n",
       "      <td>{'value': '842/dbcd85b8-52cf-11e5-b971-fa163e6...</td>\n",
       "    </tr>\n",
       "    <tr>\n",
       "      <th>510</th>\n",
       "      <td>{'path': '/cinecaDMPZone/home/pdonorio/irods2g...</td>\n",
       "      <td>{'value': 'wgdQxUxwbe44va03FD6z8vp4nxfTN1Xwu3'...</td>\n",
       "    </tr>\n",
       "    <tr>\n",
       "      <th>511</th>\n",
       "      <td>{'key': 'parent_pid', 'metatype': 'pid'}</td>\n",
       "      <td>{'checksum': 'sha2:47Ch/lZPWHZIIMjWKy7Zboa8+j+...</td>\n",
       "    </tr>\n",
       "    <tr>\n",
       "      <th>512</th>\n",
       "      <td>{'value': 'irods://130.186.13.14:1247/cinecaDM...</td>\n",
       "      <td>{'checksum': 'sha2:47Ch/lZPWHZIIMjWKy7Zboa8+j+...</td>\n",
       "    </tr>\n",
       "    <tr>\n",
       "      <th>513</th>\n",
       "      <td>{'value': 'sha2:47Ch/lZPWHZIIMjWKy7Zboa8+j+5Yp...</td>\n",
       "      <td>{'checksum': 'sha2:47Ch/lZPWHZIIMjWKy7Zboa8+j+...</td>\n",
       "    </tr>\n",
       "    <tr>\n",
       "      <th>514</th>\n",
       "      <td>{'path': '/cinecaDMPZone/home/pdonorio/irods2g...</td>\n",
       "      <td>{'checksum': 'sha2:47Ch/lZPWHZIIMjWKy7Zboa8+j+...</td>\n",
       "    </tr>\n",
       "    <tr>\n",
       "      <th>515</th>\n",
       "      <td>{'checksum': 'sha2:47Ch/lZPWHZIIMjWKy7Zboa8+j+...</td>\n",
       "      <td>{'value': 'sha2:47Ch/lZPWHZIIMjWKy7Zboa8+j+5Yp...</td>\n",
       "    </tr>\n",
       "    <tr>\n",
       "      <th>516</th>\n",
       "      <td>{'checksum': 'sha2:47Ch/lZPWHZIIMjWKy7Zboa8+j+...</td>\n",
       "      <td>{'value': 'irods://130.186.13.14:1247/cinecaDM...</td>\n",
       "    </tr>\n",
       "    <tr>\n",
       "      <th>517</th>\n",
       "      <td>{'checksum': 'sha2:47Ch/lZPWHZIIMjWKy7Zboa8+j+...</td>\n",
       "      <td>{'key': 'parent_pid', 'metatype': 'pid'}</td>\n",
       "    </tr>\n",
       "  </tbody>\n",
       "</table>\n",
       "<p>518 rows × 2 columns</p>\n",
       "</div>"
      ],
      "text/plain": [
       "                                                     a  \\\n",
       "0    {'path': '/cinecaDMPZone/home/pdonorio/irods2g...   \n",
       "1    {'path': '/cinecaDMPZone/home/pdonorio/irods2g...   \n",
       "2    {'path': '/cinecaDMPZone/home/pdonorio/irods2g...   \n",
       "3    {'path': '/cinecaDMPZone/home/pdonorio/irods2g...   \n",
       "4    {'path': '/cinecaDMPZone/home/pdonorio/irods2g...   \n",
       "5    {'path': '/cinecaDMPZone/home/pdonorio/irods2g...   \n",
       "6    {'path': '/cinecaDMPZone/home/pdonorio/irods2g...   \n",
       "7    {'path': '/cinecaDMPZone/home/pdonorio/irods2g...   \n",
       "8    {'path': '/cinecaDMPZone/home/pdonorio/irods2g...   \n",
       "9    {'path': '/cinecaDMPZone/home/pdonorio/irods2g...   \n",
       "10                              {'name': 'cinecaRes1'}   \n",
       "11     {'path': '/cinecaDMPZone/home', 'name': 'home'}   \n",
       "12   {'path': '/cinecaDMPZone/home/pdonorio', 'name...   \n",
       "13   {'path': '/cinecaDMPZone/home/pdonorio/irods2g...   \n",
       "14                           {'name': 'cinecaDMPZone'}   \n",
       "15                              {'name': 'cinecaRes1'}   \n",
       "16   {'path': '/cinecaDMPZone/home/pdonorio/irods2g...   \n",
       "17   {'value': '01442562814', 'key': 'eudat_dpm_che...   \n",
       "18   {'value': '01442562814: 2015-09-18.07:53:34', ...   \n",
       "19   {'value': 'create_ts: 01442562814: 2015-09-18....   \n",
       "20   {'value': '0', 'key': 'data_map_id', 'metatype...   \n",
       "21   {'value': 'data_checksum : sha2:G7J5wJ+CsKbEWg...   \n",
       "22   {'value': '1', 'key': 'data_repl_status', 'met...   \n",
       "23   {'value': 'cinecaDMPZone', 'key': 'data_owner_...   \n",
       "24   {'value': 'pdonorio', 'key': 'data_owner_name'...   \n",
       "25   {'value': 'cinecaRes1', 'key': 'resc_name', 'm...   \n",
       "26   {'value': 'cinecaRes1', 'key': 'resc_group_nam...   \n",
       "27   {'value': '32', 'key': 'data_size', 'metatype'...   \n",
       "28   {'value': 'data_type_name: generic', 'key': 'd...   \n",
       "29   {'value': '0', 'key': 'data_repl_num', 'metaty...   \n",
       "..                                                 ...   \n",
       "488  {'value': 'abc_NSbuOF9luaO97s3NRISxFN6KGco8AW5...   \n",
       "489  {'checksum': 'sha2:47Ch/lZPWHZIIMjWKy7Zboa8+j+...   \n",
       "490                               {'name': 'pdonorio'}   \n",
       "491  {'path': '/cinecaDMPZone/home/pdonorio/irods2g...   \n",
       "492  {'path': '/cinecaDMPZone/home/pdonorio/irods2g...   \n",
       "493  {'path': '/cinecaDMPZone/home/pdonorio/irods2g...   \n",
       "494  {'path': '/cinecaDMPZone/home/pdonorio/irods2g...   \n",
       "495  {'path': '/cinecaDMPZone/home/pdonorio/irods2g...   \n",
       "496  {'path': '/cinecaDMPZone/home/pdonorio/irods2g...   \n",
       "497  {'path': '/cinecaDMPZone/home/pdonorio/irods2g...   \n",
       "498  {'path': '/cinecaDMPZone/home/pdonorio/irods2g...   \n",
       "499  {'path': '/cinecaDMPZone/home/pdonorio/irods2g...   \n",
       "500  {'path': '/cinecaDMPZone/home/pdonorio/irods2g...   \n",
       "501  {'path': '/cinecaDMPZone/home/pdonorio/irods2g...   \n",
       "502  {'path': '/cinecaDMPZone/home/pdonorio/irods2g...   \n",
       "503  {'path': '/cinecaDMPZone/home/pdonorio/irods2g...   \n",
       "504  {'path': '/cinecaDMPZone/home/pdonorio/irods2g...   \n",
       "505  {'path': '/cinecaDMPZone/home/pdonorio/irods2g...   \n",
       "506  {'path': '/cinecaDMPZone/home/pdonorio/irods2g...   \n",
       "507  {'path': '/cinecaDMPZone/home/pdonorio/irods2g...   \n",
       "508  {'path': '/cinecaDMPZone/home/pdonorio/irods2g...   \n",
       "509  {'path': '/cinecaDMPZone/home/pdonorio/irods2g...   \n",
       "510  {'path': '/cinecaDMPZone/home/pdonorio/irods2g...   \n",
       "511           {'key': 'parent_pid', 'metatype': 'pid'}   \n",
       "512  {'value': 'irods://130.186.13.14:1247/cinecaDM...   \n",
       "513  {'value': 'sha2:47Ch/lZPWHZIIMjWKy7Zboa8+j+5Yp...   \n",
       "514  {'path': '/cinecaDMPZone/home/pdonorio/irods2g...   \n",
       "515  {'checksum': 'sha2:47Ch/lZPWHZIIMjWKy7Zboa8+j+...   \n",
       "516  {'checksum': 'sha2:47Ch/lZPWHZIIMjWKy7Zboa8+j+...   \n",
       "517  {'checksum': 'sha2:47Ch/lZPWHZIIMjWKy7Zboa8+j+...   \n",
       "\n",
       "                                                     b  \n",
       "0                            {'name': 'cinecaDMPZone'}  \n",
       "1                            {'name': 'cinecaDMPZone'}  \n",
       "2                            {'name': 'cinecaDMPZone'}  \n",
       "3                            {'name': 'cinecaDMPZone'}  \n",
       "4                            {'name': 'cinecaDMPZone'}  \n",
       "5                            {'name': 'cinecaDMPZone'}  \n",
       "6                            {'name': 'cinecaDMPZone'}  \n",
       "7                            {'name': 'cinecaDMPZone'}  \n",
       "8                            {'name': 'cinecaDMPZone'}  \n",
       "9                            {'name': 'cinecaDMPZone'}  \n",
       "10                           {'name': 'cinecaDMPZone'}  \n",
       "11                           {'name': 'cinecaDMPZone'}  \n",
       "12                           {'name': 'cinecaDMPZone'}  \n",
       "13                           {'name': 'cinecaDMPZone'}  \n",
       "14   {'path': '/cinecaDMPZone/home/pdonorio/irods2g...  \n",
       "15   {'path': '/cinecaDMPZone/home/pdonorio/irods2g...  \n",
       "16   {'path': '/cinecaDMPZone/home/pdonorio/irods2g...  \n",
       "17   {'path': '/cinecaDMPZone/home/pdonorio/irods2g...  \n",
       "18   {'path': '/cinecaDMPZone/home/pdonorio/irods2g...  \n",
       "19   {'path': '/cinecaDMPZone/home/pdonorio/irods2g...  \n",
       "20   {'path': '/cinecaDMPZone/home/pdonorio/irods2g...  \n",
       "21   {'path': '/cinecaDMPZone/home/pdonorio/irods2g...  \n",
       "22   {'path': '/cinecaDMPZone/home/pdonorio/irods2g...  \n",
       "23   {'path': '/cinecaDMPZone/home/pdonorio/irods2g...  \n",
       "24   {'path': '/cinecaDMPZone/home/pdonorio/irods2g...  \n",
       "25   {'path': '/cinecaDMPZone/home/pdonorio/irods2g...  \n",
       "26   {'path': '/cinecaDMPZone/home/pdonorio/irods2g...  \n",
       "27   {'path': '/cinecaDMPZone/home/pdonorio/irods2g...  \n",
       "28   {'path': '/cinecaDMPZone/home/pdonorio/irods2g...  \n",
       "29   {'path': '/cinecaDMPZone/home/pdonorio/irods2g...  \n",
       "..                                                 ...  \n",
       "488  {'path': '/cinecaDMPZone/home/pdonorio/irods2g...  \n",
       "489  {'path': '/cinecaDMPZone/home/pdonorio/irods2g...  \n",
       "490  {'path': '/cinecaDMPZone/home/pdonorio/irods2g...  \n",
       "491  {'value': 'abc_NSbuOF9luaO97s3NRISxFN6KGco8AW5...  \n",
       "492  {'value': '10246', 'key': 'data_id', 'metatype...  \n",
       "493  {'value': '10215', 'key': 'coll_id', 'metatype...  \n",
       "494  {'value': '0', 'key': 'data_repl_num', 'metaty...  \n",
       "495  {'value': 'data_type_name: generic', 'key': 'd...  \n",
       "496  {'value': '32', 'key': 'data_size', 'metatype'...  \n",
       "497  {'value': 'cinecaRes1', 'key': 'resc_group_nam...  \n",
       "498  {'value': 'cinecaRes1', 'key': 'resc_name', 'm...  \n",
       "499  {'value': 'pdonorio', 'key': 'data_owner_name'...  \n",
       "500  {'value': 'cinecaDMPZone', 'key': 'data_owner_...  \n",
       "501  {'value': '1', 'key': 'data_repl_status', 'met...  \n",
       "502  {'value': 'data_checksum : sha2:47Ch/lZPWHZIIM...  \n",
       "503  {'value': '0', 'key': 'data_map_id', 'metatype...  \n",
       "504  {'value': 'create_ts: 01441348838: 2015-09-04....  \n",
       "505  {'value': '01441348838: 2015-09-04.06:40:38', ...  \n",
       "506  {'value': '01441348838', 'key': 'eudat_dpm_che...  \n",
       "507  {'value': 'CdQxUxwbe44va03FD6z8vp4nxfTN1Xwu3',...  \n",
       "508  {'value': 'dQxUxwbe44va03FD6z8vp4nxfTN1Xwu3', ...  \n",
       "509  {'value': '842/dbcd85b8-52cf-11e5-b971-fa163e6...  \n",
       "510  {'value': 'wgdQxUxwbe44va03FD6z8vp4nxfTN1Xwu3'...  \n",
       "511  {'checksum': 'sha2:47Ch/lZPWHZIIMjWKy7Zboa8+j+...  \n",
       "512  {'checksum': 'sha2:47Ch/lZPWHZIIMjWKy7Zboa8+j+...  \n",
       "513  {'checksum': 'sha2:47Ch/lZPWHZIIMjWKy7Zboa8+j+...  \n",
       "514  {'checksum': 'sha2:47Ch/lZPWHZIIMjWKy7Zboa8+j+...  \n",
       "515  {'value': 'sha2:47Ch/lZPWHZIIMjWKy7Zboa8+j+5Yp...  \n",
       "516  {'value': 'irods://130.186.13.14:1247/cinecaDM...  \n",
       "517           {'key': 'parent_pid', 'metatype': 'pid'}  \n",
       "\n",
       "[518 rows x 2 columns]"
      ]
     },
     "execution_count": 7,
     "metadata": {},
     "output_type": "execute_result"
    }
   ],
   "source": [
    "# Pandas\n",
    "results.get_dataframe()"
   ]
  },
  {
   "cell_type": "code",
   "execution_count": 8,
   "metadata": {
    "collapsed": false
   },
   "outputs": [
    {
     "name": "stdout",
     "output_type": "stream",
     "text": [
      "discarding /opt/miniconda/envs/python34/bin from PATH\n",
      "prepending /opt/miniconda/envs/python34/bin to PATH\n",
      "Requirement already satisfied (use --upgrade to upgrade): networkx in /opt/miniconda/envs/python34/lib/python3.4/site-packages\n",
      "Requirement already satisfied (use --upgrade to upgrade): decorator>=3.4.0 in /opt/miniconda/envs/python34/lib/python3.4/site-packages (from networkx)\n"
     ]
    }
   ],
   "source": [
    "! $CONDA_ACTIVATE && pip install networkx"
   ]
  },
  {
   "cell_type": "code",
   "execution_count": 9,
   "metadata": {
    "collapsed": false
   },
   "outputs": [
    {
     "data": {
      "text/plain": [
       "<networkx.classes.multidigraph.MultiDiGraph at 0x7f4a0f598a90>"
      ]
     },
     "execution_count": 9,
     "metadata": {},
     "output_type": "execute_result"
    }
   ],
   "source": [
    "# Networkx\n",
    "results.get_graph()"
   ]
  },
  {
   "cell_type": "code",
   "execution_count": 10,
   "metadata": {
    "collapsed": true
   },
   "outputs": [],
   "source": [
    "%matplotlib inline\n",
    "#results.plot()"
   ]
  },
  {
   "cell_type": "markdown",
   "metadata": {},
   "source": [
    "# Problem with cypher\n",
    "A python3 problem"
   ]
  },
  {
   "cell_type": "code",
   "execution_count": 11,
   "metadata": {
    "collapsed": false
   },
   "outputs": [
    {
     "ename": "AttributeError",
     "evalue": "'module' object has no attribute 'random_layout_layout'",
     "output_type": "error",
     "traceback": [
      "\u001b[1;31m---------------------------------------------------------------------------\u001b[0m",
      "\u001b[1;31mAttributeError\u001b[0m                            Traceback (most recent call last)",
      "\u001b[1;32m<ipython-input-11-844512438a9b>\u001b[0m in \u001b[0;36m<module>\u001b[1;34m()\u001b[0m\n\u001b[1;32m----> 1\u001b[1;33m \u001b[0mresults\u001b[0m\u001b[1;33m.\u001b[0m\u001b[0mdraw\u001b[0m\u001b[1;33m(\u001b[0m\u001b[0mlayout\u001b[0m\u001b[1;33m=\u001b[0m\u001b[1;34m'random_layout'\u001b[0m\u001b[1;33m)\u001b[0m\u001b[1;33m\u001b[0m\u001b[0m\n\u001b[0m",
      "\u001b[1;32m/opt/miniconda/envs/python34/lib/python3.4/site-packages/cypher/run.py\u001b[0m in \u001b[0;36mdraw\u001b[1;34m(self, directed, layout, node_label_attr, show_node_labels, edge_label_attr, show_edge_labels, node_size, node_color, node_alpha, node_text_size, edge_color, edge_alpha, edge_tickness, edge_text_pos, text_font, ax)\u001b[0m\n\u001b[0;32m    261\u001b[0m         \"\"\"\n\u001b[0;32m    262\u001b[0m         \u001b[0mgraph\u001b[0m \u001b[1;33m=\u001b[0m \u001b[0mself\u001b[0m\u001b[1;33m.\u001b[0m\u001b[0mget_graph\u001b[0m\u001b[1;33m(\u001b[0m\u001b[0mdirected\u001b[0m\u001b[1;33m=\u001b[0m\u001b[0mdirected\u001b[0m\u001b[1;33m)\u001b[0m\u001b[1;33m\u001b[0m\u001b[0m\n\u001b[1;32m--> 263\u001b[1;33m         \u001b[0mpos\u001b[0m \u001b[1;33m=\u001b[0m \u001b[0mgetattr\u001b[0m\u001b[1;33m(\u001b[0m\u001b[0mnx\u001b[0m\u001b[1;33m,\u001b[0m \u001b[1;34m\"{}_layout\"\u001b[0m\u001b[1;33m.\u001b[0m\u001b[0mformat\u001b[0m\u001b[1;33m(\u001b[0m\u001b[0mlayout\u001b[0m\u001b[1;33m)\u001b[0m\u001b[1;33m)\u001b[0m\u001b[1;33m(\u001b[0m\u001b[0mgraph\u001b[0m\u001b[1;33m)\u001b[0m\u001b[1;33m\u001b[0m\u001b[0m\n\u001b[0m\u001b[0;32m    264\u001b[0m         \u001b[0mnode_labels\u001b[0m \u001b[1;33m=\u001b[0m \u001b[1;33m{\u001b[0m\u001b[1;33m}\u001b[0m\u001b[1;33m\u001b[0m\u001b[0m\n\u001b[0;32m    265\u001b[0m         \u001b[0medge_labels\u001b[0m \u001b[1;33m=\u001b[0m \u001b[1;33m{\u001b[0m\u001b[1;33m}\u001b[0m\u001b[1;33m\u001b[0m\u001b[0m\n",
      "\u001b[1;31mAttributeError\u001b[0m: 'module' object has no attribute 'random_layout_layout'"
     ]
    }
   ],
   "source": [
    "results.draw(layout='random_layout')"
   ]
  }
 ],
 "metadata": {
  "kernelspec": {
   "display_name": "Python 3",
   "language": "python",
   "name": "python3"
  },
  "language_info": {
   "codemirror_mode": {
    "name": "ipython",
    "version": 3
   },
   "file_extension": ".py",
   "mimetype": "text/x-python",
   "name": "python",
   "nbconvert_exporter": "python",
   "pygments_lexer": "ipython3",
   "version": "3.4.3"
  }
 },
 "nbformat": 4,
 "nbformat_minor": 0
}
